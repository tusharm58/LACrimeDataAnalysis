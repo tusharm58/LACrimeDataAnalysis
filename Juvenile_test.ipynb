{
 "cells": [
  {
   "cell_type": "code",
   "execution_count": 2,
   "metadata": {},
   "outputs": [
    {
     "name": "stderr",
     "output_type": "stream",
     "text": [
      "C:\\Users\\bhati\\Anaconda3\\lib\\site-packages\\statsmodels\\compat\\pandas.py:56: FutureWarning: The pandas.core.datetools module is deprecated and will be removed in a future version. Please use the pandas.tseries module instead.\n",
      "  from pandas.core import datetools\n"
     ]
    }
   ],
   "source": [
    "import numpy as np\n",
    "import pandas as pd\n",
    "import matplotlib.pyplot as plt\n",
    "from sklearn.linear_model import LinearRegression\n",
    "import statsmodels.api as sm\n",
    "import scipy.stats as stats\n",
    "from scipy.stats import norm\n",
    "import seaborn as sns\n",
    "import collections"
   ]
  },
  {
   "cell_type": "code",
   "execution_count": 18,
   "metadata": {},
   "outputs": [],
   "source": [
    "#read the dataset\n",
    "dataset = pd.read_csv('Crime_Data_from_2010_to_Present.csv')\n",
    "\n",
    "#drop the missing values\n",
    "#dataset.dropna(inplace=True)\n",
    "#print(len(dataset))\n",
    "\n",
    "df = pd.DataFrame(dataset, columns = ['Status Description', 'Crime Code 1'])\n",
    "\n",
    "df2 = pd.DataFrame(dataset, columns = ['Status Description', 'Crime Type'])\n"
   ]
  },
  {
   "cell_type": "code",
   "execution_count": 4,
   "metadata": {},
   "outputs": [],
   "source": [
    "juvData = df.loc[dataset['Status Description'].isin(['Juv Arrest','Juv Other'])]\n",
    "crimeStatus = df2.loc[dataset['Status Description'].isin(['Juv Arrest','Juv Other'])]"
   ]
  },
  {
   "cell_type": "code",
   "execution_count": 5,
   "metadata": {},
   "outputs": [],
   "source": [
    "j_array = juvData.values\n",
    "juvData_arr = j_array.flatten()"
   ]
  },
  {
   "cell_type": "code",
   "execution_count": 7,
   "metadata": {},
   "outputs": [],
   "source": [
    "newJuvData = juvData_arr\n",
    "newJuvData = np.reshape(juvData_arr, (-1, 2))"
   ]
  },
  {
   "cell_type": "code",
   "execution_count": 8,
   "metadata": {},
   "outputs": [],
   "source": [
    "for i in range(len(newJuvData)):\n",
    "    if(newJuvData[i][0] == 'Juv Arrest'):\n",
    "        newJuvData[i][0] = 1\n",
    "    else:\n",
    "        newJuvData[i][0] = 0\n",
    "        \n"
   ]
  },
  {
   "cell_type": "code",
   "execution_count": 9,
   "metadata": {},
   "outputs": [],
   "source": [
    "x = []\n",
    "y = []\n",
    "for i in range(len(newJuvData)):\n",
    "    x.append(newJuvData[i][0])\n",
    "    y.append(newJuvData[i][1])\n",
    "n = len(x)"
   ]
  },
  {
   "cell_type": "code",
   "execution_count": 10,
   "metadata": {},
   "outputs": [
    {
     "name": "stdout",
     "output_type": "stream",
     "text": [
      "Correlation coefficient -0.20686659486143952\n"
     ]
    }
   ],
   "source": [
    "#compute correlation coefficient R\n",
    "r = np.corrcoef(x,y)\n",
    "#print (r)\n",
    "corr_coeff = r[0][1]\n",
    "print ('Correlation coefficient',corr_coeff)"
   ]
  },
  {
   "cell_type": "code",
   "execution_count": 11,
   "metadata": {},
   "outputs": [],
   "source": [
    "#Compute test statistics\n",
    "test_stats = (corr_coeff * np.sqrt(n-2)) / (np.sqrt(1- corr_coeff ** 2))\n"
   ]
  },
  {
   "cell_type": "code",
   "execution_count": 12,
   "metadata": {},
   "outputs": [
    {
     "name": "stdout",
     "output_type": "stream",
     "text": [
      "Test statistics -22.16998901426323\n",
      "P value 1.0\n"
     ]
    }
   ],
   "source": [
    "#Degrees of freedom\n",
    "df = 2*n - 2\n",
    "\n",
    "#p-value after comparison with the t\n",
    "p = 1 - stats.t.cdf(test_stats,df=df)\n",
    "\n",
    "print ('Test statistics',test_stats)\n",
    "print ('P value',p)\n"
   ]
  },
  {
   "cell_type": "code",
   "execution_count": 13,
   "metadata": {},
   "outputs": [
    {
     "name": "stdout",
     "output_type": "stream",
     "text": [
      "Set alpha = 0.05\n",
      "Accept the null hypothesis.\n"
     ]
    }
   ],
   "source": [
    "alpha = 0.05\n",
    "print ('Set alpha = 0.05')\n",
    "if p<alpha:\n",
    "    print ('Reject the null hypothesis.')\n",
    "else:\n",
    "    print ('Accept the null hypothesis.')\n",
    "\n",
    "#plt.scatter(x,y)\n",
    "#plt.show()"
   ]
  },
  {
   "cell_type": "code",
   "execution_count": 19,
   "metadata": {},
   "outputs": [
    {
     "data": {
      "image/png": "[encoded data removed]",
      "text/plain": [
       "<matplotlib.figure.Figure at 0x22b029b04a8>"
      ]
     },
     "metadata": {},
     "output_type": "display_data"
    }
   ],
   "source": [
    "ax = sns.countplot(x=\"Crime Type\", data=crimeStatus)\n",
    "plt.ylabel('Number of Victims')\n",
    "plt.title('Juvenile delinquency in violent and non - violent crimes.')\n",
    "plt.savefig('Juvenile')"
   ]
  },
  {
   "cell_type": "code",
   "execution_count": null,
   "metadata": {},
   "outputs": [],
   "source": []
  },
  {
   "cell_type": "code",
   "execution_count": null,
   "metadata": {},
   "outputs": [],
   "source": []
  }
 ],
 "metadata": {
  "kernelspec": {
   "display_name": "Python 3",
   "language": "python",
   "name": "python3"
  },
  "language_info": {
   "codemirror_mode": {
    "name": "ipython",
    "version": 3
   },
   "file_extension": ".py",
   "mimetype": "text/x-python",
   "name": "python",
   "nbconvert_exporter": "python",
   "pygments_lexer": "ipython3",
   "version": "3.6.4"
  }
 },
 "nbformat": 4,
 "nbformat_minor": 2
}
